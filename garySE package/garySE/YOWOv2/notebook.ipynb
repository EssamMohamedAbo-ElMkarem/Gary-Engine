{
 "cells": [
  {
   "cell_type": "code",
   "execution_count": 1,
   "metadata": {},
   "outputs": [],
   "source": [
    "!python demo.py -d ucf24 -v yowo_v2_tiny -size 224 --weight \"E:\\Downloads\\yowo_v2_tiny_ucf24_k32.pth\" --video \"C:\\Users\\Amr\\Desktop\\Graduration Project\\video.mp4\" --show"
   ]
  },
  {
   "cell_type": "code",
   "execution_count": null,
   "metadata": {},
   "outputs": [],
   "source": [
    "#\"E:\\Downloads\\yowo_v2_nano_ava.pth\"   ucf24\n",
    "#\"E:\\Downloads\\yowo_v2_nano_ucf24_k32.pth\"  ava_v2.2"
   ]
  }
 ],
 "metadata": {
  "kernelspec": {
   "display_name": "yolov8",
   "language": "python",
   "name": "python3"
  },
  "language_info": {
   "codemirror_mode": {
    "name": "ipython",
    "version": 3
   },
   "file_extension": ".py",
   "mimetype": "text/x-python",
   "name": "python",
   "nbconvert_exporter": "python",
   "pygments_lexer": "ipython3",
   "version": "3.9.16"
  },
  "orig_nbformat": 4
 },
 "nbformat": 4,
 "nbformat_minor": 2
}
